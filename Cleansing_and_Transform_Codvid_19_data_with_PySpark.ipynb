{
  "nbformat": 4,
  "nbformat_minor": 0,
  "metadata": {
    "colab": {
      "name": "Cleansing and Transform Codvid 19 data with PySpark.ipynb",
      "provenance": [],
      "collapsed_sections": [],
      "authorship_tag": "ABX9TyO6DKbbOwoe9Rdt3dMMbHHT",
      "include_colab_link": true
    },
    "kernelspec": {
      "name": "python3",
      "display_name": "Python 3"
    },
    "language_info": {
      "name": "python"
    }
  },
  "cells": [
    {
      "cell_type": "markdown",
      "metadata": {
        "id": "view-in-github",
        "colab_type": "text"
      },
      "source": [
        "<a href=\"https://colab.research.google.com/github/mangkalapiratjr/spark/blob/main/Cleansing_and_Transform_Codvid_19_data_with_PySpark.ipynb\" target=\"_parent\"><img src=\"https://colab.research.google.com/assets/colab-badge.svg\" alt=\"Open In Colab\"/></a>"
      ]
    },
    {
      "cell_type": "markdown",
      "metadata": {
        "id": "YbrPMwJtY38t"
      },
      "source": [
        "# **Cleansing and Transform Covid19 cases data using PySpark**"
      ]
    },
    {
      "cell_type": "markdown",
      "metadata": {
        "id": "ksDQYCvVEZ8e"
      },
      "source": [
        "**Steps**\n",
        "1. Import Covid19 dataset (csv file from data.go.th)\n",
        "2. Drop uninterested columns\n",
        "3. Handle with missing values\n",
        "4. Create a new column to group age by range\n",
        "5. Find the wrong or inconsistent Province name in the dataset and correct them\n",
        "6. Save output as parquet file"
      ]
    },
    {
      "cell_type": "markdown",
      "metadata": {
        "id": "5KMrCHvq6jQi"
      },
      "source": [
        "# Install libraries to use"
      ]
    },
    {
      "cell_type": "code",
      "metadata": {
        "colab": {
          "base_uri": "https://localhost:8080/"
        },
        "id": "xZ8UJ9F76iOO",
        "outputId": "ecfb6a45-ae3c-4b18-9e82-835edad19d1f"
      },
      "source": [
        "pip install pyspark"
      ],
      "execution_count": 21,
      "outputs": [
        {
          "output_type": "stream",
          "text": [
            "Requirement already satisfied: pyspark in /usr/local/lib/python3.7/dist-packages (3.1.2)\n",
            "Requirement already satisfied: py4j==0.10.9 in /usr/local/lib/python3.7/dist-packages (from pyspark) (0.10.9)\n"
          ],
          "name": "stdout"
        }
      ]
    },
    {
      "cell_type": "markdown",
      "metadata": {
        "id": "dAcE3e3889oh"
      },
      "source": [
        "# Import libraries and create SparkSession"
      ]
    },
    {
      "cell_type": "code",
      "metadata": {
        "id": "w2roppk67WJb"
      },
      "source": [
        "from pyspark.sql import  SparkSession, Row, Column\n",
        "from pyspark.sql.functions import regexp_replace, col, count, when, isnan\n",
        "\n",
        "spark = SparkSession.builder.getOrCreate()"
      ],
      "execution_count": 22,
      "outputs": []
    },
    {
      "cell_type": "markdown",
      "metadata": {
        "id": "8ZJEmpFpwyRr"
      },
      "source": [
        "# Exploration, Cleansing and Transformation of Covid19 cases data"
      ]
    },
    {
      "cell_type": "code",
      "metadata": {
        "id": "JFaASFNzxYY4"
      },
      "source": [
        "# Import Covid19 cases data\n",
        "df_covid = spark.read.csv('datasets/covid19-case.csv', header=True, inferSchema=True)"
      ],
      "execution_count": 23,
      "outputs": []
    },
    {
      "cell_type": "code",
      "metadata": {
        "colab": {
          "base_uri": "https://localhost:8080/"
        },
        "id": "p_POaoMkIJvF",
        "outputId": "b1501839-a977-478f-ef2d-00a688d43bfb"
      },
      "source": [
        "# Explore data\n",
        "df_covid.printSchema()\n",
        "\n",
        "df_covid.show(5)\n",
        "\n",
        "df_covid.summary().show()"
      ],
      "execution_count": 24,
      "outputs": [
        {
          "output_type": "stream",
          "text": [
            "root\n",
            " |-- No.: string (nullable = true)\n",
            " |-- announce_date: string (nullable = true)\n",
            " |-- Notified date: string (nullable = true)\n",
            " |-- sex: string (nullable = true)\n",
            " |-- age: double (nullable = true)\n",
            " |-- Unit: string (nullable = true)\n",
            " |-- nationality: string (nullable = true)\n",
            " |-- province_of_isolation: string (nullable = true)\n",
            " |-- risk: string (nullable = true)\n",
            " |-- province_of_onset: string (nullable = true)\n",
            " |-- district_of_onset: string (nullable = true)\n",
            "\n",
            "+---+-------------+-------------+----+----+----+-----------+---------------------+--------------------+-----------------+-----------------+\n",
            "|No.|announce_date|Notified date| sex| age|Unit|nationality|province_of_isolation|                risk|province_of_onset|district_of_onset|\n",
            "+---+-------------+-------------+----+----+----+-----------+---------------------+--------------------+-----------------+-----------------+\n",
            "|  1|   12/01/2020|         null|หญิง|61.0|  ปี|      China|        กรุงเทพมหานคร|คนต่างชาติเดินทาง...|    กรุงเทพมหานคร|             null|\n",
            "|  2|   17/01/2020|         null|หญิง|74.0|  ปี|      China|        กรุงเทพมหานคร|คนต่างชาติเดินทาง...|    กรุงเทพมหานคร|             null|\n",
            "|  3|   22/01/2020|         null|หญิง|73.0|  ปี|   Thailand|               นครปฐม|คนต่างชาติเดินทาง...|           นครปฐม|            เมือง|\n",
            "|  4|   22/01/2020|         null| ชาย|68.0|  ปี|      China|        กรุงเทพมหานคร|คนต่างชาติเดินทาง...|    กรุงเทพมหานคร|             null|\n",
            "|  5|   24/01/2020|         null|หญิง|66.0|  ปี|      China|              นนทบุรี|คนต่างชาติเดินทาง...|          นนทบุรี|             null|\n",
            "+---+-------------+-------------+----+----+----+-----------+---------------------+--------------------+-----------------+-----------------+\n",
            "only showing top 5 rows\n",
            "\n",
            "+-------+-------------------+-------------+-------------+------+------------------+------+----------------+---------------------+--------------------+-----------------+-----------------+\n",
            "|summary|                No.|announce_date|Notified date|   sex|               age|  Unit|     nationality|province_of_isolation|                risk|province_of_onset|district_of_onset|\n",
            "+-------+-------------------+-------------+-------------+------+------------------+------+----------------+---------------------+--------------------+-----------------+-----------------+\n",
            "|  count|             353430|       353420|       350625|331255|            319050|319232|          325878|               352907|              352336|           352895|           273977|\n",
            "|   mean|           176708.0|         null|         null|  null| 35.46803165648018|  null|            null|                 null|                null|             null|              0.0|\n",
            "| stddev|   102022.267030291|         null|         null|  null|15.780417225539072|  null|            null|                 null|                null|             null|             null|\n",
            "|    min| อยู่ระหว่างสอบสวน\"|   01/01/2021|   01/01/2021|   ชาย|               1.0|   วัน|Afghan / Afghani|                 กทม.| 2.สัมผัสผู้ติดเชื้อ|             กทม.|                 |\n",
            "|    25%|            88329.0|         null|         null|  null|              25.0|  null|            null|                 null|                null|             null|              0.0|\n",
            "|    50%|           176681.0|         null|         null|  null|              34.0|  null|            null|                 null|                null|             null|              0.0|\n",
            "|    75%|           265054.0|         null|         null|  null|              45.0|  null|            null|                 null|                null|             null|              0.0|\n",
            "|    max| อยู่ระหว่างสอบสวน\"|        ระยอง|   เมืองระยอง|  หญิง|             108.0| เดือน|         ไม่ระบุ|                โคราช|ไปแหล่งชุมชน/สถาน...|            โคราช|  ้เมืองเพชรบูรณ์|\n",
            "+-------+-------------------+-------------+-------------+------+------------------+------+----------------+---------------------+--------------------+-----------------+-----------------+\n",
            "\n"
          ],
          "name": "stdout"
        }
      ]
    },
    {
      "cell_type": "code",
      "metadata": {
        "colab": {
          "base_uri": "https://localhost:8080/"
        },
        "id": "DsEJQG2YZUIU",
        "outputId": "d2c4b808-12e5-4533-9b3c-d957b21a3e5a"
      },
      "source": [
        "# Drop unused columns\n",
        "df_covid = df_covid.drop('No.', 'Notified date', 'district_of_isolation', 'province_of_isolation', 'district_of_onset')\n",
        "print(df_covid.show(5))\n",
        "\n",
        "# Check missing values of all columns\n",
        "df_covid.select( [ count( when(col(c).isNull() | isnan(col(c)), c) ).alias(c) for c in df_covid.columns]).show()"
      ],
      "execution_count": 25,
      "outputs": [
        {
          "output_type": "stream",
          "text": [
            "+-------------+----+----+----+-----------+--------------------+-----------------+\n",
            "|announce_date| sex| age|Unit|nationality|                risk|province_of_onset|\n",
            "+-------------+----+----+----+-----------+--------------------+-----------------+\n",
            "|   12/01/2020|หญิง|61.0|  ปี|      China|คนต่างชาติเดินทาง...|    กรุงเทพมหานคร|\n",
            "|   17/01/2020|หญิง|74.0|  ปี|      China|คนต่างชาติเดินทาง...|    กรุงเทพมหานคร|\n",
            "|   22/01/2020|หญิง|73.0|  ปี|   Thailand|คนต่างชาติเดินทาง...|           นครปฐม|\n",
            "|   22/01/2020| ชาย|68.0|  ปี|      China|คนต่างชาติเดินทาง...|    กรุงเทพมหานคร|\n",
            "|   24/01/2020|หญิง|66.0|  ปี|      China|คนต่างชาติเดินทาง...|          นนทบุรี|\n",
            "+-------------+----+----+----+-----------+--------------------+-----------------+\n",
            "only showing top 5 rows\n",
            "\n",
            "None\n",
            "+-------------+-----+-----+-----+-----------+----+-----------------+\n",
            "|announce_date|  sex|  age| Unit|nationality|risk|province_of_onset|\n",
            "+-------------+-----+-----+-----+-----------+----+-----------------+\n",
            "|           10|22175|34380|34198|      27552|1094|              535|\n",
            "+-------------+-----+-----+-----+-----------+----+-----------------+\n",
            "\n"
          ],
          "name": "stdout"
        }
      ]
    },
    {
      "cell_type": "code",
      "metadata": {
        "colab": {
          "base_uri": "https://localhost:8080/"
        },
        "id": "NxMlg_xajp8z",
        "outputId": "24e1fca9-b486-4e26-824a-4d5e25c9a282"
      },
      "source": [
        "# Filter only row where age and province_of_onset is not null\n",
        "df_covid_filtered = df_covid.where( col('age').isNotNull() & col('Unit').isNotNull() & col('province_of_onset').isNotNull()  )\n",
        "\n",
        "# Verified that column age and province_of_onset have no missing values\n",
        "df_covid_filtered.select( [ count( when(col(c).isNull() | isnan(col(c)), c) ).alias(c) for c in df_covid.columns]).show()"
      ],
      "execution_count": 26,
      "outputs": [
        {
          "output_type": "stream",
          "text": [
            "+-------------+----+---+----+-----------+----+-----------------+\n",
            "|announce_date| sex|age|Unit|nationality|risk|province_of_onset|\n",
            "+-------------+----+---+----+-----------+----+-----------------+\n",
            "|            0|8891|  0|   0|      17845| 924|                0|\n",
            "+-------------+----+---+----+-----------+----+-----------------+\n",
            "\n"
          ],
          "name": "stdout"
        }
      ]
    },
    {
      "cell_type": "code",
      "metadata": {
        "colab": {
          "base_uri": "https://localhost:8080/"
        },
        "id": "qL688CjKobLD",
        "outputId": "2757cfcb-8a73-43bc-87ef-83227e8826f8"
      },
      "source": [
        "# Create a new column named age_range for grouping age by range\n",
        "df_covid_group_age = df_covid_filtered.withColumn('age_range', when( (df_covid_filtered.Unit=='วัน')  | (df_covid_filtered.Unit=='เดือน')  | ( (df_covid_filtered.Unit=='ปี') & (df_covid_filtered.age <=5) )  , '0-5 ปี') \n",
        "                                                  .when( (df_covid_filtered.Unit=='ปี') & (df_covid_filtered.age >= 6) & (df_covid_filtered.age <=17) , '6-17 ปี') \n",
        "                                                  .when( (df_covid_filtered.Unit=='ปี') & (df_covid_filtered.age >= 18) & (df_covid_filtered.age <= 30), '18-30 ปี') \n",
        "                                                  .when( (df_covid_filtered.Unit=='ปี') & (df_covid_filtered.age >= 31) & (df_covid_filtered.age <= 60), '31-60 ปี') \n",
        "                                                  .otherwise('มากกว่า 60 ปี') )\n",
        "df_covid_group_age.show(10)"
      ],
      "execution_count": 27,
      "outputs": [
        {
          "output_type": "stream",
          "text": [
            "+-------------+----+----+----+-----------+--------------------+-----------------+-------------+\n",
            "|announce_date| sex| age|Unit|nationality|                risk|province_of_onset|    age_range|\n",
            "+-------------+----+----+----+-----------+--------------------+-----------------+-------------+\n",
            "|   12/01/2020|หญิง|61.0|  ปี|      China|คนต่างชาติเดินทาง...|    กรุงเทพมหานคร|มากกว่า 60 ปี|\n",
            "|   17/01/2020|หญิง|74.0|  ปี|      China|คนต่างชาติเดินทาง...|    กรุงเทพมหานคร|มากกว่า 60 ปี|\n",
            "|   22/01/2020|หญิง|73.0|  ปี|   Thailand|คนต่างชาติเดินทาง...|           นครปฐม|มากกว่า 60 ปี|\n",
            "|   22/01/2020| ชาย|68.0|  ปี|      China|คนต่างชาติเดินทาง...|    กรุงเทพมหานคร|มากกว่า 60 ปี|\n",
            "|   24/01/2020|หญิง|66.0|  ปี|      China|คนต่างชาติเดินทาง...|          นนทบุรี|มากกว่า 60 ปี|\n",
            "|   25/01/2020|หญิง|33.0|  ปี|      China|คนต่างชาติเดินทาง...|    กรุงเทพมหานคร|     31-60 ปี|\n",
            "|   26/01/2020|หญิง|57.0|  ปี|      China|คนต่างชาติเดินทาง...|    กรุงเทพมหานคร|     31-60 ปี|\n",
            "|   26/01/2020|หญิง|73.0|  ปี|      China|คนต่างชาติเดินทาง...|  ประจวบคีรีขันธ์|มากกว่า 60 ปี|\n",
            "|   28/01/2020| ชาย|63.0|  ปี|      China|คนต่างชาติเดินทาง...|    กรุงเทพมหานคร|มากกว่า 60 ปี|\n",
            "|   28/01/2020|หญิง|28.0|  ปี|      China|คนต่างชาติเดินทาง...|          นนทบุรี|     18-30 ปี|\n",
            "+-------------+----+----+----+-----------+--------------------+-----------------+-------------+\n",
            "only showing top 10 rows\n",
            "\n"
          ],
          "name": "stdout"
        }
      ]
    },
    {
      "cell_type": "code",
      "metadata": {
        "colab": {
          "base_uri": "https://localhost:8080/"
        },
        "id": "G4lRvmq_vMxd",
        "outputId": "18ca129e-80ba-4c25-8c59-47e39f2bd0df"
      },
      "source": [
        "# Check unique value of Province name\n",
        "df_covid_group_age.select('province_of_onset').distinct().count()"
      ],
      "execution_count": 28,
      "outputs": [
        {
          "output_type": "execute_result",
          "data": {
            "text/plain": [
              "81"
            ]
          },
          "metadata": {
            "tags": []
          },
          "execution_count": 28
        }
      ]
    },
    {
      "cell_type": "code",
      "metadata": {
        "id": "5CUNfT7Ivlsc"
      },
      "source": [
        "# Since total number of Province need to be less than or equal 77, so we need to cross check with Province name list which collect in province.csv\n",
        "df_province = spark.read.csv('datasets/province.csv', header=True, inferSchema=True)"
      ],
      "execution_count": 29,
      "outputs": []
    },
    {
      "cell_type": "code",
      "metadata": {
        "colab": {
          "base_uri": "https://localhost:8080/"
        },
        "id": "dc_rgXCL46XD",
        "outputId": "09ae26eb-8422-450a-e3a7-de67084d6f9c"
      },
      "source": [
        "# Check total number of Province name and Explore schema\n",
        "print(f'Total province = {df_province.distinct().count()}')\n",
        "\n",
        "df_province.printSchema()"
      ],
      "execution_count": 38,
      "outputs": [
        {
          "output_type": "stream",
          "text": [
            "Total province = 77\n",
            "root\n",
            " |-- ProvinceNo: integer (nullable = true)\n",
            " |-- ProvinceMOI_ID: integer (nullable = true)\n",
            " |-- ProvinceNameThai: string (nullable = true)\n",
            " |-- ProvinceNameThaiAbbr: string (nullable = true)\n",
            " |-- ProvinceBudgetCode_2563: integer (nullable = true)\n",
            " |-- ProvinceNameEnglish: string (nullable = true)\n",
            " |-- ProvinceOfficialWebsite: string (nullable = true)\n",
            " |-- TopExecutivePositionandProvinceName: string (nullable = true)\n",
            " |-- AddressforCorrespondence: string (nullable = true)\n",
            " |-- RegionID: integer (nullable = true)\n",
            " |-- RegionName: string (nullable = true)\n",
            " |-- ProvincialClusterID: integer (nullable = true)\n",
            " |-- ProvincialClusterName: string (nullable = true)\n",
            " |-- RegionCGDWelfareIntegrationSystem: string (nullable = true)\n",
            " |-- RegionTMD: string (nullable = true)\n",
            " |-- RegionECT: string (nullable = true)\n",
            " |-- RegionNSO: string (nullable = true)\n",
            " |-- RegionOPSIndustry: string (nullable = true)\n",
            " |-- RegionArmy: string (nullable = true)\n",
            " |-- RegionPolice: string (nullable = true)\n",
            " |-- RegionONCB: string (nullable = true)\n",
            " |-- RegionalHealth: string (nullable = true)\n",
            " |-- RegionEnvironment: string (nullable = true)\n",
            " |-- RegionRoyalRain: string (nullable = true)\n",
            " |-- RegionDGR: string (nullable = true)\n",
            " |-- WaterAuthorities_ServiceArea: string (nullable = true)\n",
            " |-- RegionWaterAuthorities: string (nullable = true)\n",
            " |-- RegionElectricityAuthorities: string (nullable = true)\n",
            " |-- RegionLDD: string (nullable = true)\n",
            " |-- RegionSecondaryEducationalServiceArea_from2010to2020: string (nullable = true)\n",
            " |-- RegionFineArts: string (nullable = true)\n",
            " |-- RegionTAT: string (nullable = true)\n",
            " |-- ProvincialOffice_TAT: string (nullable = true)\n",
            " |-- RegionAppealCourt: string (nullable = true)\n",
            " |-- RegionAdministrativeCourt: string (nullable = true)\n",
            " |-- RegionTheCriminalCourtforCorruption: string (nullable = true)\n",
            " |-- RegionPACC: string (nullable = true)\n",
            " |-- RegionExciseDepartment: string (nullable = true)\n",
            " |-- RegionCGDOffice: string (nullable = true)\n",
            " |-- RegionRD: string (nullable = true)\n",
            " |-- RegionVillageFund: string (nullable = true)\n",
            " |-- StateAuditRegionalOffice: string (nullable = true)\n",
            " |-- RegionPRD: string (nullable = true)\n",
            " |-- RegionIndustrialRehabilitionCenter: string (nullable = true)\n",
            " |-- RegionEducationOffice: string (nullable = true)\n",
            " |-- RegionHealthPromotionCenter: string (nullable = true)\n",
            " |-- RegionMentalHealth: string (nullable = true)\n",
            " |-- RegionNHSO: string (nullable = true)\n",
            " |-- RegionDisaster: string (nullable = true)\n",
            " |-- RegionHumanSecurity: string (nullable = true)\n",
            " |-- RegionOAE: string (nullable = true)\n",
            " |-- RegionForestIndustry: string (nullable = true)\n",
            " |-- RegionMilitaryCircle: string (nullable = true)\n",
            " |-- RegionDSI: string (nullable = true)\n",
            " |-- RegionDLD: string (nullable = true)\n",
            " |-- Region_CustomHouse: string (nullable = true)\n",
            " |-- Region_CustomsBureau: string (nullable = true)\n",
            " |-- Region_CAD: string (nullable = true)\n",
            " |-- Region_DOA: string (nullable = true)\n",
            " |-- Region_MOI: string (nullable = true)\n",
            " |-- Region_MOI_Inspection: string (nullable = true)\n",
            " |-- Region_DMR: string (nullable = true)\n",
            " |-- Region_DIP: string (nullable = true)\n",
            " |-- Region_NESDC_NationalAccounts: string (nullable = true)\n",
            " |-- Region_NESDC_RegionalOffice: string (nullable = true)\n",
            " |-- Region_BudgetBureauDivision: string (nullable = true)\n",
            " |-- RegionSecondaryEducationalServiceArea_from2021: string (nullable = true)\n",
            " |-- ProvinceBudgetCode_2564: integer (nullable = true)\n",
            " |-- Region_InspectionArea_CPD: string (nullable = true)\n",
            " |-- Region_DOAE: string (nullable = true)\n",
            " |-- Region_MonkMahaNikai: string (nullable = true)\n",
            " |-- Region_MonkMahaNikai_Hon: string (nullable = true)\n",
            " |-- Region_MonkDhammyuttika: string (nullable = true)\n",
            " |-- Region_OPM_InspectionArea: string (nullable = true)\n",
            " |-- Region_BACCDepartment: string (nullable = true)\n",
            " |-- Region_SAT: string (nullable = true)\n",
            " |-- Region_OPSCulture_RoyalFuneral: string (nullable = true)\n",
            " |-- Region_OPSTourismandSports: string (nullable = true)\n",
            " |-- Region_TourismDevelopmentArea: string (nullable = true)\n",
            " |-- RiverBasin: string (nullable = true)\n",
            " |-- Region_MOE_InspectionArea: string (nullable = true)\n",
            " |-- Region_CTCC: string (nullable = true)\n",
            " |-- Region_DMSC: string (nullable = true)\n",
            " |-- Region_DDC: string (nullable = true)\n",
            " |-- Region_ThailandTrustMark_DITP: string (nullable = true)\n",
            " |-- Region_BOI: string (nullable = true)\n",
            " |-- Region_OCSB: string (nullable = true)\n",
            " |-- Region_Archives: string (nullable = true)\n",
            " |-- Region_Intelligence: string (nullable = true)\n",
            " |-- Region_StateAuditOffice: string (nullable = true)\n",
            " |-- Region_CivicEducationandParticipationCenter: string (nullable = true)\n",
            " |-- RegionalHoliday: string (nullable = true)\n",
            " |-- Region_Forest: string (nullable = true)\n",
            " |-- Region_IrrigationOffice: string (nullable = true)\n",
            " |-- Region_HydrologyCenter: string (nullable = true)\n",
            " |-- Region_WaterResourceOffice: string (nullable = true)\n",
            " |-- Region_DMCR: string (nullable = true)\n",
            " |-- DistrictOffice_NBTC: string (nullable = true)\n",
            " |-- RegionalOffice_NBTC: string (nullable = true)\n",
            "\n"
          ],
          "name": "stdout"
        }
      ]
    },
    {
      "cell_type": "code",
      "metadata": {
        "colab": {
          "base_uri": "https://localhost:8080/"
        },
        "id": "jg8DQES3IAa7",
        "outputId": "edad7d89-09e2-4c94-c300-6edeb2333479"
      },
      "source": [
        "# Select only the ProvinceNameThai column, rename to Province column and remove word 'จังหวัด' from province name\n",
        "df_province_name = df_province.select('ProvinceNameThai').withColumn('province', regexp_replace('ProvinceNameThai', 'จังหวัด', '')).drop('ProvinceNameThai')\n",
        "\n",
        "# Keep Province names as list\n",
        "provinces =[row.province for row in df_province_name.collect()]\n",
        "print( len(provinces) )"
      ],
      "execution_count": 31,
      "outputs": [
        {
          "output_type": "stream",
          "text": [
            "77\n"
          ],
          "name": "stdout"
        }
      ]
    },
    {
      "cell_type": "code",
      "metadata": {
        "colab": {
          "base_uri": "https://localhost:8080/"
        },
        "id": "ycJEJL5lyBds",
        "outputId": "7e38b824-7695-46ad-9dba-1eb2206085ad"
      },
      "source": [
        "# Find incorrect or inconsistent Province name from Covid19 data\n",
        "df_covid_group_age.select('province_of_onset').distinct().filter( ~ df_covid_group_age['province_of_onset'].isin(provinces) ).show()"
      ],
      "execution_count": 32,
      "outputs": [
        {
          "output_type": "stream",
          "text": [
            "+-----------------+\n",
            "|province_of_onset|\n",
            "+-----------------+\n",
            "|         กรุงเทพฯ|\n",
            "|            โคราช|\n",
            "|             กทม.|\n",
            "|          กรุงเทพ|\n",
            "+-----------------+\n",
            "\n"
          ],
          "name": "stdout"
        }
      ]
    },
    {
      "cell_type": "code",
      "metadata": {
        "colab": {
          "base_uri": "https://localhost:8080/"
        },
        "id": "yHEpc_Wo4f4D",
        "outputId": "58661c23-5f1b-40db-e16f-8fdfe080e5db"
      },
      "source": [
        "# Replace correct Province name\n",
        "df_covid_final = df_covid_group_age.withColumn('province',  when(( df_covid_group_age['province_of_onset']=='กรุงเทพฯ') | (df_covid_group_age['province_of_onset']=='กรุงเทพ') \\\n",
        "                                                                 | (df_covid_group_age['province_of_onset']=='กทม.') , 'กรุงเทพมหานคร')  \\\n",
        "                                                                 .when( df_covid_group_age['province_of_onset']=='โคราช', 'นครราชสีมา')\n",
        "                                                                  .otherwise( df_covid_group_age['province_of_onset'])  )\n",
        "\n",
        "# Verify that total number of Province is 77\n",
        "df_covid_final.select('province').distinct().count()"
      ],
      "execution_count": 33,
      "outputs": [
        {
          "output_type": "execute_result",
          "data": {
            "text/plain": [
              "77"
            ]
          },
          "metadata": {
            "tags": []
          },
          "execution_count": 33
        }
      ]
    },
    {
      "cell_type": "code",
      "metadata": {
        "colab": {
          "base_uri": "https://localhost:8080/"
        },
        "id": "5-MhmVk79fLk",
        "outputId": "1217ea9b-cc83-4c3c-dab6-d632e5952e53"
      },
      "source": [
        "# Final Output\n",
        "df_covid_final.show()"
      ],
      "execution_count": 34,
      "outputs": [
        {
          "output_type": "stream",
          "text": [
            "+-------------+----+----+----+-----------+--------------------+-----------------+-------------+---------------+\n",
            "|announce_date| sex| age|Unit|nationality|                risk|province_of_onset|    age_range|       province|\n",
            "+-------------+----+----+----+-----------+--------------------+-----------------+-------------+---------------+\n",
            "|   12/01/2020|หญิง|61.0|  ปี|      China|คนต่างชาติเดินทาง...|    กรุงเทพมหานคร|มากกว่า 60 ปี|  กรุงเทพมหานคร|\n",
            "|   17/01/2020|หญิง|74.0|  ปี|      China|คนต่างชาติเดินทาง...|    กรุงเทพมหานคร|มากกว่า 60 ปี|  กรุงเทพมหานคร|\n",
            "|   22/01/2020|หญิง|73.0|  ปี|   Thailand|คนต่างชาติเดินทาง...|           นครปฐม|มากกว่า 60 ปี|         นครปฐม|\n",
            "|   22/01/2020| ชาย|68.0|  ปี|      China|คนต่างชาติเดินทาง...|    กรุงเทพมหานคร|มากกว่า 60 ปี|  กรุงเทพมหานคร|\n",
            "|   24/01/2020|หญิง|66.0|  ปี|      China|คนต่างชาติเดินทาง...|          นนทบุรี|มากกว่า 60 ปี|        นนทบุรี|\n",
            "|   25/01/2020|หญิง|33.0|  ปี|      China|คนต่างชาติเดินทาง...|    กรุงเทพมหานคร|     31-60 ปี|  กรุงเทพมหานคร|\n",
            "|   26/01/2020|หญิง|57.0|  ปี|      China|คนต่างชาติเดินทาง...|    กรุงเทพมหานคร|     31-60 ปี|  กรุงเทพมหานคร|\n",
            "|   26/01/2020|หญิง|73.0|  ปี|      China|คนต่างชาติเดินทาง...|  ประจวบคีรีขันธ์|มากกว่า 60 ปี|ประจวบคีรีขันธ์|\n",
            "|   28/01/2020| ชาย|63.0|  ปี|      China|คนต่างชาติเดินทาง...|    กรุงเทพมหานคร|มากกว่า 60 ปี|  กรุงเทพมหานคร|\n",
            "|   28/01/2020|หญิง|28.0|  ปี|      China|คนต่างชาติเดินทาง...|          นนทบุรี|     18-30 ปี|        นนทบุรี|\n",
            "|   28/01/2020| ชาย|33.0|  ปี|      China|สัมผัสใกล้ชิดกับผ...|         กรุงเทพฯ|     31-60 ปี|  กรุงเทพมหานคร|\n",
            "|   28/01/2020| ชาย|61.0|  ปี|      China|สัมผัสใกล้ชิดกับผ...|    กรุงเทพมหานคร|มากกว่า 60 ปี|  กรุงเทพมหานคร|\n",
            "|   28/01/2020| ชาย| 6.0|  ปี|      China|สัมผัสใกล้ชิดกับผ...|    กรุงเทพมหานคร|      6-17 ปี|  กรุงเทพมหานคร|\n",
            "|   28/01/2020|หญิง|32.0|  ปี|      China|คนต่างชาติเดินทาง...|           ภูเก็ต|     31-60 ปี|         ภูเก็ต|\n",
            "|   31/01/2020| ชาย|56.0|  ปี|      China|คนต่างชาติเดินทาง...|    กรุงเทพมหานคร|     31-60 ปี|  กรุงเทพมหานคร|\n",
            "|   31/01/2020| ชาย|50.0|  ปี|   Thailand|อาชีพเสี่ยง เช่น ...|    กรุงเทพมหานคร|     31-60 ปี|  กรุงเทพมหานคร|\n",
            "|   31/01/2020| ชาย|28.0|  ปี|      China|คนต่างชาติเดินทาง...|        เชียงใหม่|     18-30 ปี|      เชียงใหม่|\n",
            "|   31/01/2020| ชาย|30.0|  ปี|      China|คนต่างชาติเดินทาง...|    กรุงเทพมหานคร|     18-30 ปี|  กรุงเทพมหานคร|\n",
            "|   31/01/2020| ชาย|33.0|  ปี|      China|คนต่างชาติเดินทาง...|    กรุงเทพมหานคร|     31-60 ปี|  กรุงเทพมหานคร|\n",
            "|   04/02/2020|หญิง|43.0|  ปี|   Thailand|คนไทยเดินทางกลับจ...|         กรุงเทพฯ|     31-60 ปี|  กรุงเทพมหานคร|\n",
            "+-------------+----+----+----+-----------+--------------------+-----------------+-------------+---------------+\n",
            "only showing top 20 rows\n",
            "\n"
          ],
          "name": "stdout"
        }
      ]
    },
    {
      "cell_type": "code",
      "metadata": {
        "id": "pd2JIzrh-IKE"
      },
      "source": [
        "# Save DataFrame to Parquet File\n",
        "df_covid_final.write.parquet('output', mode='overwrite')"
      ],
      "execution_count": 35,
      "outputs": []
    },
    {
      "cell_type": "code",
      "metadata": {
        "colab": {
          "base_uri": "https://localhost:8080/"
        },
        "id": "qdbK3boU_ZZ0",
        "outputId": "1cd30845-d07c-4912-bc63-ea555d5dabad"
      },
      "source": [
        "# Test Output File\n",
        "df = spark.read.parquet('output')\n",
        "df.show()"
      ],
      "execution_count": 36,
      "outputs": [
        {
          "output_type": "stream",
          "text": [
            "+-------------+----+----+----+-----------+--------------------+-----------------+-------------+---------------+\n",
            "|announce_date| sex| age|Unit|nationality|                risk|province_of_onset|    age_range|       province|\n",
            "+-------------+----+----+----+-----------+--------------------+-----------------+-------------+---------------+\n",
            "|   12/01/2020|หญิง|61.0|  ปี|      China|คนต่างชาติเดินทาง...|    กรุงเทพมหานคร|มากกว่า 60 ปี|  กรุงเทพมหานคร|\n",
            "|   17/01/2020|หญิง|74.0|  ปี|      China|คนต่างชาติเดินทาง...|    กรุงเทพมหานคร|มากกว่า 60 ปี|  กรุงเทพมหานคร|\n",
            "|   22/01/2020|หญิง|73.0|  ปี|   Thailand|คนต่างชาติเดินทาง...|           นครปฐม|มากกว่า 60 ปี|         นครปฐม|\n",
            "|   22/01/2020| ชาย|68.0|  ปี|      China|คนต่างชาติเดินทาง...|    กรุงเทพมหานคร|มากกว่า 60 ปี|  กรุงเทพมหานคร|\n",
            "|   24/01/2020|หญิง|66.0|  ปี|      China|คนต่างชาติเดินทาง...|          นนทบุรี|มากกว่า 60 ปี|        นนทบุรี|\n",
            "|   25/01/2020|หญิง|33.0|  ปี|      China|คนต่างชาติเดินทาง...|    กรุงเทพมหานคร|     31-60 ปี|  กรุงเทพมหานคร|\n",
            "|   26/01/2020|หญิง|57.0|  ปี|      China|คนต่างชาติเดินทาง...|    กรุงเทพมหานคร|     31-60 ปี|  กรุงเทพมหานคร|\n",
            "|   26/01/2020|หญิง|73.0|  ปี|      China|คนต่างชาติเดินทาง...|  ประจวบคีรีขันธ์|มากกว่า 60 ปี|ประจวบคีรีขันธ์|\n",
            "|   28/01/2020| ชาย|63.0|  ปี|      China|คนต่างชาติเดินทาง...|    กรุงเทพมหานคร|มากกว่า 60 ปี|  กรุงเทพมหานคร|\n",
            "|   28/01/2020|หญิง|28.0|  ปี|      China|คนต่างชาติเดินทาง...|          นนทบุรี|     18-30 ปี|        นนทบุรี|\n",
            "|   28/01/2020| ชาย|33.0|  ปี|      China|สัมผัสใกล้ชิดกับผ...|         กรุงเทพฯ|     31-60 ปี|  กรุงเทพมหานคร|\n",
            "|   28/01/2020| ชาย|61.0|  ปี|      China|สัมผัสใกล้ชิดกับผ...|    กรุงเทพมหานคร|มากกว่า 60 ปี|  กรุงเทพมหานคร|\n",
            "|   28/01/2020| ชาย| 6.0|  ปี|      China|สัมผัสใกล้ชิดกับผ...|    กรุงเทพมหานคร|      6-17 ปี|  กรุงเทพมหานคร|\n",
            "|   28/01/2020|หญิง|32.0|  ปี|      China|คนต่างชาติเดินทาง...|           ภูเก็ต|     31-60 ปี|         ภูเก็ต|\n",
            "|   31/01/2020| ชาย|56.0|  ปี|      China|คนต่างชาติเดินทาง...|    กรุงเทพมหานคร|     31-60 ปี|  กรุงเทพมหานคร|\n",
            "|   31/01/2020| ชาย|50.0|  ปี|   Thailand|อาชีพเสี่ยง เช่น ...|    กรุงเทพมหานคร|     31-60 ปี|  กรุงเทพมหานคร|\n",
            "|   31/01/2020| ชาย|28.0|  ปี|      China|คนต่างชาติเดินทาง...|        เชียงใหม่|     18-30 ปี|      เชียงใหม่|\n",
            "|   31/01/2020| ชาย|30.0|  ปี|      China|คนต่างชาติเดินทาง...|    กรุงเทพมหานคร|     18-30 ปี|  กรุงเทพมหานคร|\n",
            "|   31/01/2020| ชาย|33.0|  ปี|      China|คนต่างชาติเดินทาง...|    กรุงเทพมหานคร|     31-60 ปี|  กรุงเทพมหานคร|\n",
            "|   04/02/2020|หญิง|43.0|  ปี|   Thailand|คนไทยเดินทางกลับจ...|         กรุงเทพฯ|     31-60 ปี|  กรุงเทพมหานคร|\n",
            "+-------------+----+----+----+-----------+--------------------+-----------------+-------------+---------------+\n",
            "only showing top 20 rows\n",
            "\n"
          ],
          "name": "stdout"
        }
      ]
    }
  ]
}