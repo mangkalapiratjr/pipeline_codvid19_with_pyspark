{
  "nbformat": 4,
  "nbformat_minor": 0,
  "metadata": {
    "colab": {
      "name": "Import (AWS S3), Cleansing and Transform Codvid 19 data with PySpark.ipynb",
      "provenance": [],
      "collapsed_sections": []
    },
    "kernelspec": {
      "name": "python3",
      "display_name": "Python 3"
    },
    "language_info": {
      "name": "python"
    }
  },
  "cells": [
    {
      "cell_type": "markdown",
      "metadata": {
        "id": "YbrPMwJtY38t"
      },
      "source": [
        "# **Import (AWS S3) , Cleansing and Transform Covid19 cases data using PySpark**"
      ]
    },
    {
      "cell_type": "markdown",
      "metadata": {
        "id": "ksDQYCvVEZ8e"
      },
      "source": [
        "**Steps**\n",
        "1. Import Covid19 dataset from AWS S3 (using datasource from data.go.th)\n",
        "2. Drop uninterested columns\n",
        "3. Handle with missing values\n",
        "4. Create a new column to group age by range\n",
        "5. Find the wrong or inconsistent Province name in the dataset and correct them\n",
        "6. Save output as parquet file\n",
        "7. Send notification to users that data is ready using AWS SNS"
      ]
    },
    {
      "cell_type": "markdown",
      "metadata": {
        "id": "5KMrCHvq6jQi"
      },
      "source": [
        "# Install libraries to use"
      ]
    },
    {
      "cell_type": "code",
      "metadata": {
        "colab": {
          "base_uri": "https://localhost:8080/"
        },
        "id": "xZ8UJ9F76iOO",
        "outputId": "62474a63-7bcc-4f74-fb66-2415244bcee7"
      },
      "source": [
        "pip install pyspark"
      ],
      "execution_count": 2,
      "outputs": [
        {
          "output_type": "stream",
          "text": [
            "Collecting pyspark\n",
            "  Downloading pyspark-3.1.2.tar.gz (212.4 MB)\n",
            "\u001b[K     |████████████████████████████████| 212.4 MB 71 kB/s \n",
            "\u001b[?25hCollecting py4j==0.10.9\n",
            "  Downloading py4j-0.10.9-py2.py3-none-any.whl (198 kB)\n",
            "\u001b[K     |████████████████████████████████| 198 kB 67.1 MB/s \n",
            "\u001b[?25hBuilding wheels for collected packages: pyspark\n",
            "  Building wheel for pyspark (setup.py) ... \u001b[?25l\u001b[?25hdone\n",
            "  Created wheel for pyspark: filename=pyspark-3.1.2-py2.py3-none-any.whl size=212880768 sha256=1d26e0a3e391f0994d349a04c8f29c3c9f4d7c4634d5b5da60f7b37eb4d5d084\n",
            "  Stored in directory: /root/.cache/pip/wheels/a5/0a/c1/9561f6fecb759579a7d863dcd846daaa95f598744e71b02c77\n",
            "Successfully built pyspark\n",
            "Installing collected packages: py4j, pyspark\n",
            "Successfully installed py4j-0.10.9 pyspark-3.1.2\n"
          ],
          "name": "stdout"
        }
      ]
    },
    {
      "cell_type": "code",
      "metadata": {
        "colab": {
          "base_uri": "https://localhost:8080/"
        },
        "id": "GEJC_P_UL96S",
        "outputId": "45ad2287-ce58-48ed-80ce-618e24e571a7"
      },
      "source": [
        "pip install boto3"
      ],
      "execution_count": 3,
      "outputs": [
        {
          "output_type": "stream",
          "text": [
            "Collecting boto3\n",
            "  Downloading boto3-1.18.21-py3-none-any.whl (131 kB)\n",
            "\u001b[?25l\r\u001b[K     |██▌                             | 10 kB 14.7 MB/s eta 0:00:01\r\u001b[K     |█████                           | 20 kB 20.0 MB/s eta 0:00:01\r\u001b[K     |███████▌                        | 30 kB 11.9 MB/s eta 0:00:01\r\u001b[K     |██████████                      | 40 kB 9.1 MB/s eta 0:00:01\r\u001b[K     |████████████▌                   | 51 kB 5.0 MB/s eta 0:00:01\r\u001b[K     |███████████████                 | 61 kB 4.9 MB/s eta 0:00:01\r\u001b[K     |█████████████████▍              | 71 kB 5.3 MB/s eta 0:00:01\r\u001b[K     |████████████████████            | 81 kB 6.0 MB/s eta 0:00:01\r\u001b[K     |██████████████████████▍         | 92 kB 5.9 MB/s eta 0:00:01\r\u001b[K     |█████████████████████████       | 102 kB 4.9 MB/s eta 0:00:01\r\u001b[K     |███████████████████████████▍    | 112 kB 4.9 MB/s eta 0:00:01\r\u001b[K     |█████████████████████████████▉  | 122 kB 4.9 MB/s eta 0:00:01\r\u001b[K     |████████████████████████████████| 131 kB 4.9 MB/s \n",
            "\u001b[?25hCollecting jmespath<1.0.0,>=0.7.1\n",
            "  Downloading jmespath-0.10.0-py2.py3-none-any.whl (24 kB)\n",
            "Collecting botocore<1.22.0,>=1.21.21\n",
            "  Downloading botocore-1.21.21-py3-none-any.whl (7.8 MB)\n",
            "\u001b[K     |████████████████████████████████| 7.8 MB 36.1 MB/s \n",
            "\u001b[?25hCollecting s3transfer<0.6.0,>=0.5.0\n",
            "  Downloading s3transfer-0.5.0-py3-none-any.whl (79 kB)\n",
            "\u001b[K     |████████████████████████████████| 79 kB 7.1 MB/s \n",
            "\u001b[?25hCollecting urllib3<1.27,>=1.25.4\n",
            "  Downloading urllib3-1.26.6-py2.py3-none-any.whl (138 kB)\n",
            "\u001b[K     |████████████████████████████████| 138 kB 61.4 MB/s \n",
            "\u001b[?25hRequirement already satisfied: python-dateutil<3.0.0,>=2.1 in /usr/local/lib/python3.7/dist-packages (from botocore<1.22.0,>=1.21.21->boto3) (2.8.2)\n",
            "Requirement already satisfied: six>=1.5 in /usr/local/lib/python3.7/dist-packages (from python-dateutil<3.0.0,>=2.1->botocore<1.22.0,>=1.21.21->boto3) (1.15.0)\n",
            "Installing collected packages: urllib3, jmespath, botocore, s3transfer, boto3\n",
            "  Attempting uninstall: urllib3\n",
            "    Found existing installation: urllib3 1.24.3\n",
            "    Uninstalling urllib3-1.24.3:\n",
            "      Successfully uninstalled urllib3-1.24.3\n",
            "\u001b[31mERROR: pip's dependency resolver does not currently take into account all the packages that are installed. This behaviour is the source of the following dependency conflicts.\n",
            "requests 2.23.0 requires urllib3!=1.25.0,!=1.25.1,<1.26,>=1.21.1, but you have urllib3 1.26.6 which is incompatible.\n",
            "datascience 0.10.6 requires folium==0.2.1, but you have folium 0.8.3 which is incompatible.\u001b[0m\n",
            "Successfully installed boto3-1.18.21 botocore-1.21.21 jmespath-0.10.0 s3transfer-0.5.0 urllib3-1.26.6\n"
          ],
          "name": "stdout"
        }
      ]
    },
    {
      "cell_type": "markdown",
      "metadata": {
        "id": "jFMN-riLUCis"
      },
      "source": [
        "# Import datasets from AWS S3"
      ]
    },
    {
      "cell_type": "code",
      "metadata": {
        "id": "g-lP8JtkNOwC"
      },
      "source": [
        "import boto3\n",
        "\n",
        "s3 = boto3.client('s3', aws_access_key_id = AWS_ACCESS_KEY, aws_secret_access_key = AWS_SECRET_KEY)\n",
        "s3.download_file(Bucket='mj-dataset', Filename='datasets/covid19-case.csv', Key='covid19-case.csv')\n",
        "s3.download_file(Bucket='mj-dataset', Filename='datasets/province.csv', Key='province.csv')"
      ],
      "execution_count": 36,
      "outputs": []
    },
    {
      "cell_type": "markdown",
      "metadata": {
        "id": "dAcE3e3889oh"
      },
      "source": [
        "# Import libraries and create SparkSession"
      ]
    },
    {
      "cell_type": "code",
      "metadata": {
        "id": "w2roppk67WJb"
      },
      "source": [
        "from pyspark.sql import  SparkSession, Row, Column\n",
        "from pyspark.sql.functions import regexp_replace, col, count, when, isnan\n",
        "\n",
        "spark = SparkSession.builder.getOrCreate()"
      ],
      "execution_count": 14,
      "outputs": []
    },
    {
      "cell_type": "markdown",
      "metadata": {
        "id": "8ZJEmpFpwyRr"
      },
      "source": [
        "# Exploration, Cleansing and Transformation of Covid19 cases data"
      ]
    },
    {
      "cell_type": "code",
      "metadata": {
        "id": "JFaASFNzxYY4"
      },
      "source": [
        "# Import Covid19 cases data\n",
        "df_covid = spark.read.csv('datasets/covid19-case.csv', header=True, inferSchema=True)"
      ],
      "execution_count": 15,
      "outputs": []
    },
    {
      "cell_type": "code",
      "metadata": {
        "colab": {
          "base_uri": "https://localhost:8080/"
        },
        "id": "p_POaoMkIJvF",
        "outputId": "17ac2567-a071-4def-c056-4e4eeb97d279"
      },
      "source": [
        "# Explore data\n",
        "df_covid.printSchema()\n",
        "\n",
        "df_covid.show(5)\n",
        "\n",
        "df_covid.summary().show()"
      ],
      "execution_count": 16,
      "outputs": [
        {
          "output_type": "stream",
          "text": [
            "root\n",
            " |-- No.: string (nullable = true)\n",
            " |-- announce_date: string (nullable = true)\n",
            " |-- Notified date: string (nullable = true)\n",
            " |-- sex: string (nullable = true)\n",
            " |-- age: double (nullable = true)\n",
            " |-- Unit: string (nullable = true)\n",
            " |-- nationality: string (nullable = true)\n",
            " |-- province_of_isolation: string (nullable = true)\n",
            " |-- risk: string (nullable = true)\n",
            " |-- province_of_onset: string (nullable = true)\n",
            " |-- district_of_onset: string (nullable = true)\n",
            "\n",
            "+---+-------------+-------------+----+----+----+-----------+---------------------+--------------------+-----------------+-----------------+\n",
            "|No.|announce_date|Notified date| sex| age|Unit|nationality|province_of_isolation|                risk|province_of_onset|district_of_onset|\n",
            "+---+-------------+-------------+----+----+----+-----------+---------------------+--------------------+-----------------+-----------------+\n",
            "|  1|   12/01/2020|         null|หญิง|61.0|  ปี|      China|        กรุงเทพมหานคร|คนต่างชาติเดินทาง...|    กรุงเทพมหานคร|             null|\n",
            "|  2|   17/01/2020|         null|หญิง|74.0|  ปี|      China|        กรุงเทพมหานคร|คนต่างชาติเดินทาง...|    กรุงเทพมหานคร|             null|\n",
            "|  3|   22/01/2020|         null|หญิง|73.0|  ปี|   Thailand|               นครปฐม|คนต่างชาติเดินทาง...|           นครปฐม|            เมือง|\n",
            "|  4|   22/01/2020|         null| ชาย|68.0|  ปี|      China|        กรุงเทพมหานคร|คนต่างชาติเดินทาง...|    กรุงเทพมหานคร|             null|\n",
            "|  5|   24/01/2020|         null|หญิง|66.0|  ปี|      China|              นนทบุรี|คนต่างชาติเดินทาง...|          นนทบุรี|             null|\n",
            "+---+-------------+-------------+----+----+----+-----------+---------------------+--------------------+-----------------+-----------------+\n",
            "only showing top 5 rows\n",
            "\n",
            "+-------+-------------------+-------------+-------------+------+------------------+------+----------------+---------------------+--------------------+-----------------+-----------------+\n",
            "|summary|                No.|announce_date|Notified date|   sex|               age|  Unit|     nationality|province_of_isolation|                risk|province_of_onset|district_of_onset|\n",
            "+-------+-------------------+-------------+-------------+------+------------------+------+----------------+---------------------+--------------------+-----------------+-----------------+\n",
            "|  count|             353430|       353420|       350625|331255|            319050|319232|          325878|               352907|              352336|           352895|           273977|\n",
            "|   mean|           176708.0|         null|         null|  null| 35.46803165648018|  null|            null|                 null|                null|             null|              0.0|\n",
            "| stddev|   102022.267030291|         null|         null|  null|15.780417225539072|  null|            null|                 null|                null|             null|             null|\n",
            "|    min| อยู่ระหว่างสอบสวน\"|   01/01/2021|   01/01/2021|   ชาย|               1.0|   วัน|Afghan / Afghani|                 กทม.| 2.สัมผัสผู้ติดเชื้อ|             กทม.|                 |\n",
            "|    25%|            88329.0|         null|         null|  null|              25.0|  null|            null|                 null|                null|             null|              0.0|\n",
            "|    50%|           176681.0|         null|         null|  null|              34.0|  null|            null|                 null|                null|             null|              0.0|\n",
            "|    75%|           265054.0|         null|         null|  null|              45.0|  null|            null|                 null|                null|             null|              0.0|\n",
            "|    max| อยู่ระหว่างสอบสวน\"|        ระยอง|   เมืองระยอง|  หญิง|             108.0| เดือน|         ไม่ระบุ|                โคราช|ไปแหล่งชุมชน/สถาน...|            โคราช|  ้เมืองเพชรบูรณ์|\n",
            "+-------+-------------------+-------------+-------------+------+------------------+------+----------------+---------------------+--------------------+-----------------+-----------------+\n",
            "\n"
          ],
          "name": "stdout"
        }
      ]
    },
    {
      "cell_type": "code",
      "metadata": {
        "colab": {
          "base_uri": "https://localhost:8080/"
        },
        "id": "DsEJQG2YZUIU",
        "outputId": "15335443-4fd1-4540-c33b-0acd59a72b30"
      },
      "source": [
        "# Drop unused columns\n",
        "df_covid = df_covid.drop('No.', 'Notified date', 'district_of_isolation', 'province_of_isolation', 'district_of_onset')\n",
        "print(df_covid.show(5))\n",
        "\n",
        "# Check missing values of all columns\n",
        "df_covid.select( [ count( when(col(c).isNull() | isnan(col(c)), c) ).alias(c) for c in df_covid.columns]).show()"
      ],
      "execution_count": 17,
      "outputs": [
        {
          "output_type": "stream",
          "text": [
            "+-------------+----+----+----+-----------+--------------------+-----------------+\n",
            "|announce_date| sex| age|Unit|nationality|                risk|province_of_onset|\n",
            "+-------------+----+----+----+-----------+--------------------+-----------------+\n",
            "|   12/01/2020|หญิง|61.0|  ปี|      China|คนต่างชาติเดินทาง...|    กรุงเทพมหานคร|\n",
            "|   17/01/2020|หญิง|74.0|  ปี|      China|คนต่างชาติเดินทาง...|    กรุงเทพมหานคร|\n",
            "|   22/01/2020|หญิง|73.0|  ปี|   Thailand|คนต่างชาติเดินทาง...|           นครปฐม|\n",
            "|   22/01/2020| ชาย|68.0|  ปี|      China|คนต่างชาติเดินทาง...|    กรุงเทพมหานคร|\n",
            "|   24/01/2020|หญิง|66.0|  ปี|      China|คนต่างชาติเดินทาง...|          นนทบุรี|\n",
            "+-------------+----+----+----+-----------+--------------------+-----------------+\n",
            "only showing top 5 rows\n",
            "\n",
            "None\n",
            "+-------------+-----+-----+-----+-----------+----+-----------------+\n",
            "|announce_date|  sex|  age| Unit|nationality|risk|province_of_onset|\n",
            "+-------------+-----+-----+-----+-----------+----+-----------------+\n",
            "|           10|22175|34380|34198|      27552|1094|              535|\n",
            "+-------------+-----+-----+-----+-----------+----+-----------------+\n",
            "\n"
          ],
          "name": "stdout"
        }
      ]
    },
    {
      "cell_type": "code",
      "metadata": {
        "colab": {
          "base_uri": "https://localhost:8080/"
        },
        "id": "NxMlg_xajp8z",
        "outputId": "c91d58db-4e8e-4d8f-b60a-91244e4735da"
      },
      "source": [
        "# Filter only row where age and province_of_onset is not null\n",
        "df_covid_filtered = df_covid.where( col('age').isNotNull() & col('Unit').isNotNull() & col('province_of_onset').isNotNull()  )\n",
        "\n",
        "# Verified that column age and province_of_onset have no missing values\n",
        "df_covid_filtered.select( [ count( when(col(c).isNull() | isnan(col(c)), c) ).alias(c) for c in df_covid.columns]).show()"
      ],
      "execution_count": 18,
      "outputs": [
        {
          "output_type": "stream",
          "text": [
            "+-------------+----+---+----+-----------+----+-----------------+\n",
            "|announce_date| sex|age|Unit|nationality|risk|province_of_onset|\n",
            "+-------------+----+---+----+-----------+----+-----------------+\n",
            "|            0|8891|  0|   0|      17845| 924|                0|\n",
            "+-------------+----+---+----+-----------+----+-----------------+\n",
            "\n"
          ],
          "name": "stdout"
        }
      ]
    },
    {
      "cell_type": "code",
      "metadata": {
        "colab": {
          "base_uri": "https://localhost:8080/"
        },
        "id": "qL688CjKobLD",
        "outputId": "f02e6195-182c-412d-f697-5dc190b85716"
      },
      "source": [
        "# Create a new column named age_range for grouping age by range\n",
        "df_covid_group_age = df_covid_filtered.withColumn('age_range', when( (df_covid_filtered.Unit=='วัน')  | (df_covid_filtered.Unit=='เดือน')  | ( (df_covid_filtered.Unit=='ปี') & (df_covid_filtered.age <=5) )  , '0-5 ปี') \n",
        "                                                  .when( (df_covid_filtered.Unit=='ปี') & (df_covid_filtered.age >= 6) & (df_covid_filtered.age <=17) , '6-17 ปี') \n",
        "                                                  .when( (df_covid_filtered.Unit=='ปี') & (df_covid_filtered.age >= 18) & (df_covid_filtered.age <= 30), '18-30 ปี') \n",
        "                                                  .when( (df_covid_filtered.Unit=='ปี') & (df_covid_filtered.age >= 31) & (df_covid_filtered.age <= 60), '31-60 ปี') \n",
        "                                                  .otherwise('มากกว่า 60 ปี') )\n",
        "df_covid_group_age.show(10)"
      ],
      "execution_count": 19,
      "outputs": [
        {
          "output_type": "stream",
          "text": [
            "+-------------+----+----+----+-----------+--------------------+-----------------+-------------+\n",
            "|announce_date| sex| age|Unit|nationality|                risk|province_of_onset|    age_range|\n",
            "+-------------+----+----+----+-----------+--------------------+-----------------+-------------+\n",
            "|   12/01/2020|หญิง|61.0|  ปี|      China|คนต่างชาติเดินทาง...|    กรุงเทพมหานคร|มากกว่า 60 ปี|\n",
            "|   17/01/2020|หญิง|74.0|  ปี|      China|คนต่างชาติเดินทาง...|    กรุงเทพมหานคร|มากกว่า 60 ปี|\n",
            "|   22/01/2020|หญิง|73.0|  ปี|   Thailand|คนต่างชาติเดินทาง...|           นครปฐม|มากกว่า 60 ปี|\n",
            "|   22/01/2020| ชาย|68.0|  ปี|      China|คนต่างชาติเดินทาง...|    กรุงเทพมหานคร|มากกว่า 60 ปี|\n",
            "|   24/01/2020|หญิง|66.0|  ปี|      China|คนต่างชาติเดินทาง...|          นนทบุรี|มากกว่า 60 ปี|\n",
            "|   25/01/2020|หญิง|33.0|  ปี|      China|คนต่างชาติเดินทาง...|    กรุงเทพมหานคร|     31-60 ปี|\n",
            "|   26/01/2020|หญิง|57.0|  ปี|      China|คนต่างชาติเดินทาง...|    กรุงเทพมหานคร|     31-60 ปี|\n",
            "|   26/01/2020|หญิง|73.0|  ปี|      China|คนต่างชาติเดินทาง...|  ประจวบคีรีขันธ์|มากกว่า 60 ปี|\n",
            "|   28/01/2020| ชาย|63.0|  ปี|      China|คนต่างชาติเดินทาง...|    กรุงเทพมหานคร|มากกว่า 60 ปี|\n",
            "|   28/01/2020|หญิง|28.0|  ปี|      China|คนต่างชาติเดินทาง...|          นนทบุรี|     18-30 ปี|\n",
            "+-------------+----+----+----+-----------+--------------------+-----------------+-------------+\n",
            "only showing top 10 rows\n",
            "\n"
          ],
          "name": "stdout"
        }
      ]
    },
    {
      "cell_type": "code",
      "metadata": {
        "colab": {
          "base_uri": "https://localhost:8080/"
        },
        "id": "G4lRvmq_vMxd",
        "outputId": "367365f7-384a-449a-e535-799f5d14c78e"
      },
      "source": [
        "# Check unique value of Province name\n",
        "df_covid_group_age.select('province_of_onset').distinct().count()"
      ],
      "execution_count": 20,
      "outputs": [
        {
          "output_type": "execute_result",
          "data": {
            "text/plain": [
              "81"
            ]
          },
          "metadata": {
            "tags": []
          },
          "execution_count": 20
        }
      ]
    },
    {
      "cell_type": "code",
      "metadata": {
        "id": "5CUNfT7Ivlsc"
      },
      "source": [
        "# Since total number of Province need to be less than or equal 77, so we need to cross check with Province name list which collect in province.csv\n",
        "df_province = spark.read.csv('datasets/province.csv', header=True, inferSchema=True)"
      ],
      "execution_count": 23,
      "outputs": []
    },
    {
      "cell_type": "code",
      "metadata": {
        "colab": {
          "base_uri": "https://localhost:8080/"
        },
        "id": "dc_rgXCL46XD",
        "outputId": "2c92f358-1dfb-4a1a-9101-d9106afdbca4"
      },
      "source": [
        "# Check total number of Province name and Explore schema\n",
        "print(f'Total province = {df_province.distinct().count()}')\n",
        "\n",
        "df_province.printSchema()"
      ],
      "execution_count": 24,
      "outputs": [
        {
          "output_type": "stream",
          "text": [
            "Total province = 77\n",
            "root\n",
            " |-- ProvinceNo: integer (nullable = true)\n",
            " |-- ProvinceMOI_ID: integer (nullable = true)\n",
            " |-- ProvinceNameThai: string (nullable = true)\n",
            " |-- ProvinceNameThaiAbbr: string (nullable = true)\n",
            " |-- ProvinceBudgetCode_2563: integer (nullable = true)\n",
            " |-- ProvinceNameEnglish: string (nullable = true)\n",
            " |-- ProvinceOfficialWebsite: string (nullable = true)\n",
            " |-- TopExecutivePositionandProvinceName: string (nullable = true)\n",
            " |-- AddressforCorrespondence: string (nullable = true)\n",
            " |-- RegionID: integer (nullable = true)\n",
            " |-- RegionName: string (nullable = true)\n",
            " |-- ProvincialClusterID: integer (nullable = true)\n",
            " |-- ProvincialClusterName: string (nullable = true)\n",
            " |-- RegionCGDWelfareIntegrationSystem: string (nullable = true)\n",
            " |-- RegionTMD: string (nullable = true)\n",
            " |-- RegionECT: string (nullable = true)\n",
            " |-- RegionNSO: string (nullable = true)\n",
            " |-- RegionOPSIndustry: string (nullable = true)\n",
            " |-- RegionArmy: string (nullable = true)\n",
            " |-- RegionPolice: string (nullable = true)\n",
            " |-- RegionONCB: string (nullable = true)\n",
            " |-- RegionalHealth: string (nullable = true)\n",
            " |-- RegionEnvironment: string (nullable = true)\n",
            " |-- RegionRoyalRain: string (nullable = true)\n",
            " |-- RegionDGR: string (nullable = true)\n",
            " |-- WaterAuthorities_ServiceArea: string (nullable = true)\n",
            " |-- RegionWaterAuthorities: string (nullable = true)\n",
            " |-- RegionElectricityAuthorities: string (nullable = true)\n",
            " |-- RegionLDD: string (nullable = true)\n",
            " |-- RegionSecondaryEducationalServiceArea_from2010to2020: string (nullable = true)\n",
            " |-- RegionFineArts: string (nullable = true)\n",
            " |-- RegionTAT: string (nullable = true)\n",
            " |-- ProvincialOffice_TAT: string (nullable = true)\n",
            " |-- RegionAppealCourt: string (nullable = true)\n",
            " |-- RegionAdministrativeCourt: string (nullable = true)\n",
            " |-- RegionTheCriminalCourtforCorruption: string (nullable = true)\n",
            " |-- RegionPACC: string (nullable = true)\n",
            " |-- RegionExciseDepartment: string (nullable = true)\n",
            " |-- RegionCGDOffice: string (nullable = true)\n",
            " |-- RegionRD: string (nullable = true)\n",
            " |-- RegionVillageFund: string (nullable = true)\n",
            " |-- StateAuditRegionalOffice: string (nullable = true)\n",
            " |-- RegionPRD: string (nullable = true)\n",
            " |-- RegionIndustrialRehabilitionCenter: string (nullable = true)\n",
            " |-- RegionEducationOffice: string (nullable = true)\n",
            " |-- RegionHealthPromotionCenter: string (nullable = true)\n",
            " |-- RegionMentalHealth: string (nullable = true)\n",
            " |-- RegionNHSO: string (nullable = true)\n",
            " |-- RegionDisaster: string (nullable = true)\n",
            " |-- RegionHumanSecurity: string (nullable = true)\n",
            " |-- RegionOAE: string (nullable = true)\n",
            " |-- RegionForestIndustry: string (nullable = true)\n",
            " |-- RegionMilitaryCircle: string (nullable = true)\n",
            " |-- RegionDSI: string (nullable = true)\n",
            " |-- RegionDLD: string (nullable = true)\n",
            " |-- Region_CustomHouse: string (nullable = true)\n",
            " |-- Region_CustomsBureau: string (nullable = true)\n",
            " |-- Region_CAD: string (nullable = true)\n",
            " |-- Region_DOA: string (nullable = true)\n",
            " |-- Region_MOI: string (nullable = true)\n",
            " |-- Region_MOI_Inspection: string (nullable = true)\n",
            " |-- Region_DMR: string (nullable = true)\n",
            " |-- Region_DIP: string (nullable = true)\n",
            " |-- Region_NESDC_NationalAccounts: string (nullable = true)\n",
            " |-- Region_NESDC_RegionalOffice: string (nullable = true)\n",
            " |-- Region_BudgetBureauDivision: string (nullable = true)\n",
            " |-- RegionSecondaryEducationalServiceArea_from2021: string (nullable = true)\n",
            " |-- ProvinceBudgetCode_2564: integer (nullable = true)\n",
            " |-- Region_InspectionArea_CPD: string (nullable = true)\n",
            " |-- Region_DOAE: string (nullable = true)\n",
            " |-- Region_MonkMahaNikai: string (nullable = true)\n",
            " |-- Region_MonkMahaNikai_Hon: string (nullable = true)\n",
            " |-- Region_MonkDhammyuttika: string (nullable = true)\n",
            " |-- Region_OPM_InspectionArea: string (nullable = true)\n",
            " |-- Region_BACCDepartment: string (nullable = true)\n",
            " |-- Region_SAT: string (nullable = true)\n",
            " |-- Region_OPSCulture_RoyalFuneral: string (nullable = true)\n",
            " |-- Region_OPSTourismandSports: string (nullable = true)\n",
            " |-- Region_TourismDevelopmentArea: string (nullable = true)\n",
            " |-- RiverBasin: string (nullable = true)\n",
            " |-- Region_MOE_InspectionArea: string (nullable = true)\n",
            " |-- Region_CTCC: string (nullable = true)\n",
            " |-- Region_DMSC: string (nullable = true)\n",
            " |-- Region_DDC: string (nullable = true)\n",
            " |-- Region_ThailandTrustMark_DITP: string (nullable = true)\n",
            " |-- Region_BOI: string (nullable = true)\n",
            " |-- Region_OCSB: string (nullable = true)\n",
            " |-- Region_Archives: string (nullable = true)\n",
            " |-- Region_Intelligence: string (nullable = true)\n",
            " |-- Region_StateAuditOffice: string (nullable = true)\n",
            " |-- Region_CivicEducationandParticipationCenter: string (nullable = true)\n",
            " |-- RegionalHoliday: string (nullable = true)\n",
            " |-- Region_Forest: string (nullable = true)\n",
            " |-- Region_IrrigationOffice: string (nullable = true)\n",
            " |-- Region_HydrologyCenter: string (nullable = true)\n",
            " |-- Region_WaterResourceOffice: string (nullable = true)\n",
            " |-- Region_DMCR: string (nullable = true)\n",
            " |-- DistrictOffice_NBTC: string (nullable = true)\n",
            " |-- RegionalOffice_NBTC: string (nullable = true)\n",
            "\n"
          ],
          "name": "stdout"
        }
      ]
    },
    {
      "cell_type": "code",
      "metadata": {
        "colab": {
          "base_uri": "https://localhost:8080/"
        },
        "id": "jg8DQES3IAa7",
        "outputId": "746d4dcc-08b8-4712-a755-feb280e0cc28"
      },
      "source": [
        "# Select only the ProvinceNameThai column, rename to Province column and remove word 'จังหวัด' from province name\n",
        "df_province_name = df_province.select('ProvinceNameThai').withColumn('province', regexp_replace('ProvinceNameThai', 'จังหวัด', '')).drop('ProvinceNameThai')\n",
        "\n",
        "# Keep Province names as list\n",
        "provinces =[row.province for row in df_province_name.collect()]\n",
        "print( len(provinces) )"
      ],
      "execution_count": 25,
      "outputs": [
        {
          "output_type": "stream",
          "text": [
            "77\n"
          ],
          "name": "stdout"
        }
      ]
    },
    {
      "cell_type": "code",
      "metadata": {
        "colab": {
          "base_uri": "https://localhost:8080/"
        },
        "id": "ycJEJL5lyBds",
        "outputId": "eb1fee37-1d21-4e3c-bc15-dbafe80fc909"
      },
      "source": [
        "# Find incorrect or inconsistent Province name from Covid19 data\n",
        "df_covid_group_age.select('province_of_onset').distinct().filter( ~ df_covid_group_age['province_of_onset'].isin(provinces) ).show()"
      ],
      "execution_count": 26,
      "outputs": [
        {
          "output_type": "stream",
          "text": [
            "+-----------------+\n",
            "|province_of_onset|\n",
            "+-----------------+\n",
            "|         กรุงเทพฯ|\n",
            "|            โคราช|\n",
            "|             กทม.|\n",
            "|          กรุงเทพ|\n",
            "+-----------------+\n",
            "\n"
          ],
          "name": "stdout"
        }
      ]
    },
    {
      "cell_type": "code",
      "metadata": {
        "colab": {
          "base_uri": "https://localhost:8080/"
        },
        "id": "yHEpc_Wo4f4D",
        "outputId": "2179777a-717d-4f50-d7e6-c02c0a2db781"
      },
      "source": [
        "# Replace inconsistent Province name with the correct name\n",
        "df_covid_final = df_covid_group_age.withColumn('province',  when(( df_covid_group_age['province_of_onset']=='กรุงเทพฯ') | (df_covid_group_age['province_of_onset']=='กรุงเทพ') \\\n",
        "                                                                 | (df_covid_group_age['province_of_onset']=='กทม.') , 'กรุงเทพมหานคร')  \\\n",
        "                                                                 .when( df_covid_group_age['province_of_onset']=='โคราช', 'นครราชสีมา')\n",
        "                                                                  .otherwise( df_covid_group_age['province_of_onset'])  )\n",
        "\n",
        "# Verify that total number of Province is 77\n",
        "df_covid_final.select('province').distinct().count()"
      ],
      "execution_count": 27,
      "outputs": [
        {
          "output_type": "execute_result",
          "data": {
            "text/plain": [
              "77"
            ]
          },
          "metadata": {
            "tags": []
          },
          "execution_count": 27
        }
      ]
    },
    {
      "cell_type": "code",
      "metadata": {
        "colab": {
          "base_uri": "https://localhost:8080/"
        },
        "id": "5-MhmVk79fLk",
        "outputId": "6f11516b-7ddd-40d5-d87e-bbae40135190"
      },
      "source": [
        "# Final Output\n",
        "df_covid_final.show()"
      ],
      "execution_count": 28,
      "outputs": [
        {
          "output_type": "stream",
          "text": [
            "+-------------+----+----+----+-----------+--------------------+-----------------+-------------+---------------+\n",
            "|announce_date| sex| age|Unit|nationality|                risk|province_of_onset|    age_range|       province|\n",
            "+-------------+----+----+----+-----------+--------------------+-----------------+-------------+---------------+\n",
            "|   12/01/2020|หญิง|61.0|  ปี|      China|คนต่างชาติเดินทาง...|    กรุงเทพมหานคร|มากกว่า 60 ปี|  กรุงเทพมหานคร|\n",
            "|   17/01/2020|หญิง|74.0|  ปี|      China|คนต่างชาติเดินทาง...|    กรุงเทพมหานคร|มากกว่า 60 ปี|  กรุงเทพมหานคร|\n",
            "|   22/01/2020|หญิง|73.0|  ปี|   Thailand|คนต่างชาติเดินทาง...|           นครปฐม|มากกว่า 60 ปี|         นครปฐม|\n",
            "|   22/01/2020| ชาย|68.0|  ปี|      China|คนต่างชาติเดินทาง...|    กรุงเทพมหานคร|มากกว่า 60 ปี|  กรุงเทพมหานคร|\n",
            "|   24/01/2020|หญิง|66.0|  ปี|      China|คนต่างชาติเดินทาง...|          นนทบุรี|มากกว่า 60 ปี|        นนทบุรี|\n",
            "|   25/01/2020|หญิง|33.0|  ปี|      China|คนต่างชาติเดินทาง...|    กรุงเทพมหานคร|     31-60 ปี|  กรุงเทพมหานคร|\n",
            "|   26/01/2020|หญิง|57.0|  ปี|      China|คนต่างชาติเดินทาง...|    กรุงเทพมหานคร|     31-60 ปี|  กรุงเทพมหานคร|\n",
            "|   26/01/2020|หญิง|73.0|  ปี|      China|คนต่างชาติเดินทาง...|  ประจวบคีรีขันธ์|มากกว่า 60 ปี|ประจวบคีรีขันธ์|\n",
            "|   28/01/2020| ชาย|63.0|  ปี|      China|คนต่างชาติเดินทาง...|    กรุงเทพมหานคร|มากกว่า 60 ปี|  กรุงเทพมหานคร|\n",
            "|   28/01/2020|หญิง|28.0|  ปี|      China|คนต่างชาติเดินทาง...|          นนทบุรี|     18-30 ปี|        นนทบุรี|\n",
            "|   28/01/2020| ชาย|33.0|  ปี|      China|สัมผัสใกล้ชิดกับผ...|         กรุงเทพฯ|     31-60 ปี|  กรุงเทพมหานคร|\n",
            "|   28/01/2020| ชาย|61.0|  ปี|      China|สัมผัสใกล้ชิดกับผ...|    กรุงเทพมหานคร|มากกว่า 60 ปี|  กรุงเทพมหานคร|\n",
            "|   28/01/2020| ชาย| 6.0|  ปี|      China|สัมผัสใกล้ชิดกับผ...|    กรุงเทพมหานคร|      6-17 ปี|  กรุงเทพมหานคร|\n",
            "|   28/01/2020|หญิง|32.0|  ปี|      China|คนต่างชาติเดินทาง...|           ภูเก็ต|     31-60 ปี|         ภูเก็ต|\n",
            "|   31/01/2020| ชาย|56.0|  ปี|      China|คนต่างชาติเดินทาง...|    กรุงเทพมหานคร|     31-60 ปี|  กรุงเทพมหานคร|\n",
            "|   31/01/2020| ชาย|50.0|  ปี|   Thailand|อาชีพเสี่ยง เช่น ...|    กรุงเทพมหานคร|     31-60 ปี|  กรุงเทพมหานคร|\n",
            "|   31/01/2020| ชาย|28.0|  ปี|      China|คนต่างชาติเดินทาง...|        เชียงใหม่|     18-30 ปี|      เชียงใหม่|\n",
            "|   31/01/2020| ชาย|30.0|  ปี|      China|คนต่างชาติเดินทาง...|    กรุงเทพมหานคร|     18-30 ปี|  กรุงเทพมหานคร|\n",
            "|   31/01/2020| ชาย|33.0|  ปี|      China|คนต่างชาติเดินทาง...|    กรุงเทพมหานคร|     31-60 ปี|  กรุงเทพมหานคร|\n",
            "|   04/02/2020|หญิง|43.0|  ปี|   Thailand|คนไทยเดินทางกลับจ...|         กรุงเทพฯ|     31-60 ปี|  กรุงเทพมหานคร|\n",
            "+-------------+----+----+----+-----------+--------------------+-----------------+-------------+---------------+\n",
            "only showing top 20 rows\n",
            "\n"
          ],
          "name": "stdout"
        }
      ]
    },
    {
      "cell_type": "code",
      "metadata": {
        "id": "pd2JIzrh-IKE"
      },
      "source": [
        "# Save DataFrame to Parquet File\n",
        "df_covid_final.write.parquet('covid_final', mode='overwrite')"
      ],
      "execution_count": 32,
      "outputs": []
    },
    {
      "cell_type": "code",
      "metadata": {
        "colab": {
          "base_uri": "https://localhost:8080/"
        },
        "id": "qdbK3boU_ZZ0",
        "outputId": "5e8da0c5-a843-4115-ef9b-aa0ef4df1e9b"
      },
      "source": [
        "# Test Output File\n",
        "df = spark.read.parquet('covid_final')\n",
        "df.show()"
      ],
      "execution_count": 33,
      "outputs": [
        {
          "output_type": "stream",
          "text": [
            "+-------------+----+----+----+-----------+--------------------+-----------------+-------------+---------------+\n",
            "|announce_date| sex| age|Unit|nationality|                risk|province_of_onset|    age_range|       province|\n",
            "+-------------+----+----+----+-----------+--------------------+-----------------+-------------+---------------+\n",
            "|   12/01/2020|หญิง|61.0|  ปี|      China|คนต่างชาติเดินทาง...|    กรุงเทพมหานคร|มากกว่า 60 ปี|  กรุงเทพมหานคร|\n",
            "|   17/01/2020|หญิง|74.0|  ปี|      China|คนต่างชาติเดินทาง...|    กรุงเทพมหานคร|มากกว่า 60 ปี|  กรุงเทพมหานคร|\n",
            "|   22/01/2020|หญิง|73.0|  ปี|   Thailand|คนต่างชาติเดินทาง...|           นครปฐม|มากกว่า 60 ปี|         นครปฐม|\n",
            "|   22/01/2020| ชาย|68.0|  ปี|      China|คนต่างชาติเดินทาง...|    กรุงเทพมหานคร|มากกว่า 60 ปี|  กรุงเทพมหานคร|\n",
            "|   24/01/2020|หญิง|66.0|  ปี|      China|คนต่างชาติเดินทาง...|          นนทบุรี|มากกว่า 60 ปี|        นนทบุรี|\n",
            "|   25/01/2020|หญิง|33.0|  ปี|      China|คนต่างชาติเดินทาง...|    กรุงเทพมหานคร|     31-60 ปี|  กรุงเทพมหานคร|\n",
            "|   26/01/2020|หญิง|57.0|  ปี|      China|คนต่างชาติเดินทาง...|    กรุงเทพมหานคร|     31-60 ปี|  กรุงเทพมหานคร|\n",
            "|   26/01/2020|หญิง|73.0|  ปี|      China|คนต่างชาติเดินทาง...|  ประจวบคีรีขันธ์|มากกว่า 60 ปี|ประจวบคีรีขันธ์|\n",
            "|   28/01/2020| ชาย|63.0|  ปี|      China|คนต่างชาติเดินทาง...|    กรุงเทพมหานคร|มากกว่า 60 ปี|  กรุงเทพมหานคร|\n",
            "|   28/01/2020|หญิง|28.0|  ปี|      China|คนต่างชาติเดินทาง...|          นนทบุรี|     18-30 ปี|        นนทบุรี|\n",
            "|   28/01/2020| ชาย|33.0|  ปี|      China|สัมผัสใกล้ชิดกับผ...|         กรุงเทพฯ|     31-60 ปี|  กรุงเทพมหานคร|\n",
            "|   28/01/2020| ชาย|61.0|  ปี|      China|สัมผัสใกล้ชิดกับผ...|    กรุงเทพมหานคร|มากกว่า 60 ปี|  กรุงเทพมหานคร|\n",
            "|   28/01/2020| ชาย| 6.0|  ปี|      China|สัมผัสใกล้ชิดกับผ...|    กรุงเทพมหานคร|      6-17 ปี|  กรุงเทพมหานคร|\n",
            "|   28/01/2020|หญิง|32.0|  ปี|      China|คนต่างชาติเดินทาง...|           ภูเก็ต|     31-60 ปี|         ภูเก็ต|\n",
            "|   31/01/2020| ชาย|56.0|  ปี|      China|คนต่างชาติเดินทาง...|    กรุงเทพมหานคร|     31-60 ปี|  กรุงเทพมหานคร|\n",
            "|   31/01/2020| ชาย|50.0|  ปี|   Thailand|อาชีพเสี่ยง เช่น ...|    กรุงเทพมหานคร|     31-60 ปี|  กรุงเทพมหานคร|\n",
            "|   31/01/2020| ชาย|28.0|  ปี|      China|คนต่างชาติเดินทาง...|        เชียงใหม่|     18-30 ปี|      เชียงใหม่|\n",
            "|   31/01/2020| ชาย|30.0|  ปี|      China|คนต่างชาติเดินทาง...|    กรุงเทพมหานคร|     18-30 ปี|  กรุงเทพมหานคร|\n",
            "|   31/01/2020| ชาย|33.0|  ปี|      China|คนต่างชาติเดินทาง...|    กรุงเทพมหานคร|     31-60 ปี|  กรุงเทพมหานคร|\n",
            "|   04/02/2020|หญิง|43.0|  ปี|   Thailand|คนไทยเดินทางกลับจ...|         กรุงเทพฯ|     31-60 ปี|  กรุงเทพมหานคร|\n",
            "+-------------+----+----+----+-----------+--------------------+-----------------+-------------+---------------+\n",
            "only showing top 20 rows\n",
            "\n"
          ],
          "name": "stdout"
        }
      ]
    },
    {
      "cell_type": "markdown",
      "metadata": {
        "id": "vYqmcvpMZ3we"
      },
      "source": [
        "# Send Notification to users via AWS SNS"
      ]
    },
    {
      "cell_type": "code",
      "metadata": {
        "colab": {
          "base_uri": "https://localhost:8080/"
        },
        "id": "I5BeHfESVR3U",
        "outputId": "4e408559-890f-4f59-b908-1714ca439434"
      },
      "source": [
        "sns = boto3.client('sns', region_name='us-east-2' , aws_access_key_id = AWS_ACCESS_KEY, aws_secret_access_key = AWS_SECRET_KEY)\n",
        "sns.publish(TopicArn='arn:aws:sns:us-east-2:578712631654:alert_covid19_data', \\\n",
        "            Subject='Covid19 output file is ready', \\\n",
        "            Message='...Data has been cleaned and transformed...')"
      ],
      "execution_count": 41,
      "outputs": [
        {
          "output_type": "execute_result",
          "data": {
            "text/plain": [
              "{'MessageId': '828e0d2e-fa88-55a8-8daa-54ba46a1efde',\n",
              " 'ResponseMetadata': {'HTTPHeaders': {'content-length': '294',\n",
              "   'content-type': 'text/xml',\n",
              "   'date': 'Mon, 16 Aug 2021 19:18:00 GMT',\n",
              "   'x-amzn-requestid': 'ba1fabef-0368-589b-9dd7-f27bbf4182ed'},\n",
              "  'HTTPStatusCode': 200,\n",
              "  'RequestId': 'ba1fabef-0368-589b-9dd7-f27bbf4182ed',\n",
              "  'RetryAttempts': 0}}"
            ]
          },
          "metadata": {
            "tags": []
          },
          "execution_count": 41
        }
      ]
    }
  ]
}